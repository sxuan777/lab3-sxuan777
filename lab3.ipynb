{
 "cells": [
  {
   "cell_type": "code",
   "execution_count": 11,
   "id": "29b744a5-2872-4d01-8a3f-45d239668c9d",
   "metadata": {},
   "outputs": [
    {
     "name": "stdout",
     "output_type": "stream",
     "text": [
      "Requirement already satisfied: biopython in /srv/conda/lib/python3.11/site-packages (1.85)\n",
      "Requirement already satisfied: numpy in /srv/conda/lib/python3.11/site-packages (from biopython) (2.2.6)\n"
     ]
    }
   ],
   "source": [
    "# Part 1 Setup & Imports #\n",
    "!pip install biopython\n",
    "from Bio import SeqIO\n",
    "import pandas as pd\n",
    "import sqlite3"
   ]
  },
  {
   "cell_type": "code",
   "execution_count": 12,
   "id": "e985d322-4b5f-493d-8993-8cc298c8994e",
   "metadata": {},
   "outputs": [],
   "source": [
    "# Part 2 Preparation -- define a new function #\n",
    "def execute_sql_command(command: str,database_name: str = \"lab3.db\") -> None:\n",
    "    conn = sqlite3.connect(database_name)\n",
    "    c = conn.cursor()\n",
    "    c.execute(command)\n",
    "    conn.commit()\n",
    "# Part 2.1 Create a table for pathways #\n",
    "execute_sql_command(\"\"\"\n",
    "CREATE TABLE IF NOT EXISTS pathways (\n",
    "    pathway_id INTEGER PRIMARY KEY AUTOINCREMENT,\n",
    "    pathway_name TEXT NOT NULL,\n",
    "    pathway_description TEXT\n",
    ");\n",
    "\"\"\")\n",
    "# Part 2.2 Creat a table for enzymes #\n",
    "execute_sql_command(\"DROP TABLE IF EXISTS enzymes;\")\n",
    "execute_sql_command(\"\"\"\n",
    "CREATE TABLE IF NOT EXISTS enzymes (\n",
    "    enzyme_id INTEGER PRIMARY KEY AUTOINCREMENT,\n",
    "    enzyme_commission TEXT NOT NULL,\n",
    "    enzyme_name TEXT,\n",
    "    enzyme_description TEXT\n",
    ");\n",
    "\"\"\")\n",
    "# Part 2.3 Create a table for genes #\n",
    "execute_sql_command(\"\"\"\n",
    "CREATE TABLE IF NOT EXISTS genes (\n",
    "    gene_id INTEGER PRIMARY KEY AUTOINCREMENT,\n",
    "    gene_name TEXT NOT NULL,\n",
    "    gene_organism TEXT NOT NULL,\n",
    "    gene_nucleotide_sequence TEXT,\n",
    "    gene_description TEXT,\n",
    "    enzyme_commission TEXT,\n",
    "    pathway_name TEXT\n",
    ");\n",
    "\"\"\")    "
   ]
  },
  {
   "cell_type": "code",
   "execution_count": 13,
   "id": "cd9c09b6-c814-4eea-8375-62b6d41cf151",
   "metadata": {},
   "outputs": [
    {
     "name": "stdout",
     "output_type": "stream",
     "text": [
      "   pathway_id               pathway_name pathway_description\n",
      "0          13                 Glycolysis                None\n",
      "1          14  Citrate cycle (TCA cycle)                None\n",
      "2          15  Pentose phosphate pathway                None\n"
     ]
    }
   ],
   "source": [
    "# Part 3.1 Add & Print data from KEGG to the pathway table #\n",
    "import sqlite3\n",
    "import pandas as pd\n",
    "execute_sql_command(\"DELETE FROM pathways;\")\n",
    "execute_sql_command(\"\"\"\n",
    "INSERT INTO pathways (pathway_name)\n",
    "VALUES\n",
    "('Glycolysis'),\n",
    "('Citrate cycle (TCA cycle)'),\n",
    "('Pentose phosphate pathway');\n",
    "\"\"\")\n",
    "conn = sqlite3.connect(\"lab3.db\")\n",
    "df = pd.read_sql(\"SELECT * FROM pathways;\", conn)\n",
    "print(df)"
   ]
  },
  {
   "cell_type": "code",
   "execution_count": 14,
   "id": "8ba97c21-c410-40e3-93f5-e734cd629407",
   "metadata": {},
   "outputs": [
    {
     "name": "stdout",
     "output_type": "stream",
     "text": [
      "    enzyme_id enzyme_commission                              enzyme_name  \\\n",
      "0           1           2.7.1.1                               hexokinase   \n",
      "1           2          2.7.1.63                polyphosphate glucokinase   \n",
      "2           3           5.3.1.9            glucose-6-phosphate isomerase   \n",
      "3           4          4.2.1.13           fructose-bisphosphate aldolase   \n",
      "4           5          1.1.1.42                 isocitrate dehydrogenase   \n",
      "5           6           2.3.3.1                         citrate synthase   \n",
      "6           7           4.2.1.3                      aconitate hydratase   \n",
      "7           8          4.1.1.32  phosphoenolpyruvate carboxykinase (GTP)   \n",
      "8           9          1.1.1.44         6-phosphogluconate dehydrogenase   \n",
      "9          10          4.1.2.43          3-hexulose-6-phosphate synthase   \n",
      "10         11           5.3.1.6           ribose 5-phosphate isomerase A   \n",
      "11         12          2.7.1.11                    6-phosphofructokinase   \n",
      "\n",
      "   enzyme_description  \n",
      "0                None  \n",
      "1                None  \n",
      "2                None  \n",
      "3                None  \n",
      "4                None  \n",
      "5                None  \n",
      "6                None  \n",
      "7                None  \n",
      "8                None  \n",
      "9                None  \n",
      "10               None  \n",
      "11               None  \n"
     ]
    }
   ],
   "source": [
    "# Part 3.2 Add & Print data drom KEGG to the enzyme table #\n",
    "execute_sql_command(\"\"\"\n",
    "INSERT INTO enzymes (enzyme_commission, enzyme_name)\n",
    "VALUES\n",
    "('2.7.1.1', 'hexokinase'),\n",
    "('2.7.1.63', 'polyphosphate glucokinase'),\n",
    "('5.3.1.9', 'glucose-6-phosphate isomerase'),\n",
    "('4.2.1.13', 'fructose-bisphosphate aldolase'),\n",
    "('1.1.1.42', 'isocitrate dehydrogenase'),\n",
    "('2.3.3.1', 'citrate synthase'),\n",
    "('4.2.1.3', 'aconitate hydratase'),\n",
    "('4.1.1.32', 'phosphoenolpyruvate carboxykinase (GTP)'),\n",
    "('1.1.1.44', '6-phosphogluconate dehydrogenase'),\n",
    "('4.1.2.43', '3-hexulose-6-phosphate synthase'),\n",
    "('5.3.1.6', 'ribose 5-phosphate isomerase A'),\n",
    "('2.7.1.11', '6-phosphofructokinase');\n",
    "\"\"\")\n",
    "conn = sqlite3.connect(\"lab3.db\")\n",
    "df = pd.read_sql(\"SELECT * FROM enzymes;\", conn)\n",
    "print(df)"
   ]
  },
  {
   "cell_type": "code",
   "execution_count": null,
   "id": "0d434a9b-95aa-4989-8a8b-4254e6bce85a",
   "metadata": {},
   "outputs": [],
   "source": [
    "# Part 4 Populate gene database automatically #\n",
    "# Part 4.1 Setup & Preparations #\n",
    "from Bio import Entrez\n",
    "from Bio import SeqIO\n",
    "from Bio.SeqRecord import SeqRecord\n",
    "from Bio.Seq import Seq\n",
    "import sqlite3\n",
    "Entrez.email = \"s.xuan@berkeley.edu\"\n",
    "def save_enzyme(ec_number: str, organism: str, file: str) -> None:\n",
    "    \"\"\"\n"
   ]
  }
 ],
 "metadata": {
  "kernelspec": {
   "display_name": "Python 3 (ipykernel)",
   "language": "python",
   "name": "python3"
  },
  "language_info": {
   "codemirror_mode": {
    "name": "ipython",
    "version": 3
   },
   "file_extension": ".py",
   "mimetype": "text/x-python",
   "name": "python",
   "nbconvert_exporter": "python",
   "pygments_lexer": "ipython3",
   "version": "3.11.13"
  }
 },
 "nbformat": 4,
 "nbformat_minor": 5
}
